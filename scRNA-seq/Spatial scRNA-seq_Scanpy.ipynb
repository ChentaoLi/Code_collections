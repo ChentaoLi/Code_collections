{
 "cells": [
  {
   "cell_type": "code",
   "execution_count": 2,
   "metadata": {},
   "outputs": [
    {
     "name": "stdout",
     "output_type": "stream",
     "text": [
      "scanpy==1.9.3 anndata==0.8.0 umap==0.5.3 numpy==1.23.5 scipy==1.10.1 pandas==1.5.3 scikit-learn==1.2.2 statsmodels==0.13.5 python-igraph==0.10.4 louvain==0.8.0 pynndescent==0.5.8\n"
     ]
    }
   ],
   "source": [
    "import numpy as np\n",
    "import pandas as pd\n",
    "import scanpy as sc\n",
    "import os\n",
    "import spatialde\n",
    "\n",
    "sc.settings.verbosity = 3 # verbosity: errors (0), warnings (1), info (2), hints (3)\n",
    "sc.logging.print_header()\n",
    "sc.settings.set_figure_params(dpi=80, facecolor='white')"
   ]
  },
  {
   "cell_type": "code",
   "execution_count": null,
   "metadata": {},
   "outputs": [],
   "source": [
    "# Data\n",
    "'''\n",
    "├── filtered_feature_bc_matrix\n",
    "│   ├── barcodes.tsv.gz\n",
    "│   ├── features.tsv.gz\n",
    "│   └── matrix.mtx.gz\n",
    "├── filtered_feature_bc_matrix.h5  #实际上需要的文件①\n",
    "├── metrics_summary.csv\n",
    "├── molecule_info.h5\n",
    "├── possorted_genome_bam.bam\n",
    "├── possorted_genome_bam.bam.bai\n",
    "├── raw_feature_bc_matrix\n",
    "│   ├── barcodes.tsv.gz\n",
    "│   ├── features.tsv.gz\n",
    "│   └── matrix.mtx.gz\n",
    "├── raw_feature_bc_matrix.h5\n",
    "├── spatial  # 实际上需要的文件②；记录空间信息\n",
    "│   ├── aligned_fiducials.jpg \n",
    "│   ├── detected_tissue_image.jpg\n",
    "│   ├── scalefactors_json.json\n",
    "│   ├── tissue_hires_image.png\n",
    "│   ├── tissue_lowres_image.png\n",
    "│   └── tissue_positions_list.csv\n",
    "└── web_summary.html\n",
    "'''"
   ]
  },
  {
   "cell_type": "code",
   "execution_count": null,
   "metadata": {},
   "outputs": [],
   "source": [
    "os.chdir('D:/Data/') # Change pathway\n",
    "\n",
    "# import data\n",
    "# 载入多文件(Non-spatial scRNA-seq)\n",
    "# A = sc.read_10x_mtx(\"GEX1_filtered_feature_bc_matrix\", var_names='gene_symbols', cache=True)\n",
    "# B = sc.read_10x_mtx(\"GEX2_filtered_feature_bc_matrix\", var_names='gene_symbols', cache=True) \n",
    "# C = sc.read_10x_mtx(\"GEX3_filtered_feature_bc_matrix\", var_names='gene_symbols', cache=True) \n",
    "\n",
    "# 载入多文件(spatial scRNA-seq)\n",
    "A  = sc.read_visium(\"GEX1_filtered_feature_bc_matrix\")\n",
    "B  = sc.read_visium(\"GEX2_filtered_feature_bc_matrix\")\n",
    "\n",
    "A.obs['sample_name'] = \"A\"\n",
    "B.obs['sample_name'] = \"B\"\n",
    "# C.obs['sample_name'] = \"C\""
   ]
  },
  {
   "cell_type": "code",
   "execution_count": null,
   "metadata": {},
   "outputs": [],
   "source": [
    "# merge datasets\n",
    "# Non-spatial scRNA-seq\n",
    "# adata = A.concatenate(B)\n",
    "# adata = A.concatenate(B, C)\n",
    "\n",
    "# Merge spatial scRNA-seq after QC!\n",
    "'''\n",
    "import scanorama\n",
    "adatas = [A, B]\n",
    "adatas_cor = scanorama.correct_scanpy(adatas, return_dimred=True)\n",
    "\n",
    "adatas_cor\n",
    "len(adatas_cor) # 2\n",
    "adatas_cor[0].obsm['X_scanorama'].shape\n",
    "\n",
    "# 使用uns_merge=\"unique\"策略连接两个数据集是为了在连接的anndata对象中保留visium数据集中的两个images\n",
    "adata_spatial = sc.concat(\n",
    "    adatas_cor,\n",
    "    label=\"library_id\",\n",
    "    uns_merge=\"unique\",\n",
    "    keys=[\n",
    "        k\n",
    "        for d in [\n",
    "            adatas_cor[0].uns[\"spatial\"],\n",
    "            adatas_cor[1].uns[\"spatial\"],\n",
    "        ]\n",
    "        for k, v in d.items()\n",
    "    ],\n",
    "    index_unique=\"-\",\n",
    ")\n",
    "\n",
    "sc.pp.neighbors(adata_spatial, use_rep=\"X_scanorama\")\n",
    "sc.tl.umap(adata_spatial)\n",
    "sc.tl.leiden(adata_spatial, key_added=\"clusters\")\n",
    "\n",
    "sc.pl.umap(\n",
    "    adata_spatial, color=[\"clusters\", \"library_id\"], palette=sc.pl.palettes.default_20\n",
    ")\n",
    "\n",
    "# 在空间坐标中可视化聚类结果\n",
    "# 首先需要将簇颜色保存在字典中\n",
    "# 然后在前后两个数据集的视图中可视化，并将结果并排显示\n",
    "clusters_colors = dict(\n",
    "    zip([str(i) for i in range(18)], adata_spatial.uns[\"clusters_colors\"])\n",
    ")\n",
    "\n",
    "fig, axs = plt.subplots(1, 2, figsize=(15, 10))\n",
    "\n",
    "for i, library in enumerate(\n",
    "    [\"V1_Mouse_Brain_Sagittal_Anterior\", \"V1_Mouse_Brain_Sagittal_Posterior\"]\n",
    "):\n",
    "    ad = adata_spatial[adata_spatial.obs.library_id == library, :].copy()\n",
    "    sc.pl.spatial(\n",
    "        ad,\n",
    "        img_key=\"hires\",\n",
    "        library_id=library,\n",
    "        color=\"clusters\",\n",
    "        size=1.5,\n",
    "        palette=[\n",
    "            v\n",
    "            for k, v in clusters_colors.items()\n",
    "            if k in ad.obs.clusters.unique().tolist()\n",
    "        ],\n",
    "        legend_loc=None,\n",
    "        show=False,\n",
    "        ax=axs[i],\n",
    "    )\n",
    "\n",
    "plt.tight_layout()\n",
    "\n",
    "'''"
   ]
  },
  {
   "cell_type": "code",
   "execution_count": null,
   "metadata": {},
   "outputs": [],
   "source": [
    "# 格外标记分组\n",
    "labels_sample = {\n",
    "    'A': 'a',\n",
    "    'B': 'b'\n",
    "}\n",
    "\n",
    "# 基于labels_sample和adata的sample_name对应关系进行格外标记\n",
    "adata.obs['CAR'] = pd.Series([labels_sample[sample_name] for sample_name in adata.obs['sample_name']], index=adata.obs.index)\n",
    "\n",
    "# 根据sample_name把barcode重命名\n",
    "barcode = list(map(lambda x: x[0] + '-' + x[1], zip(adata.obs[\"sample_name\"], adata.obs.index)))\n",
    "# make barcode unique 以避免warning\n",
    "adata.obs.index = barcode\n",
    "# adata.var_names_make_unique()"
   ]
  },
  {
   "cell_type": "code",
   "execution_count": null,
   "metadata": {},
   "outputs": [],
   "source": [
    "# 保存初步读入h5ad数据\n",
    "# os.chdir('D:/Data')\n",
    "adata.write('Original_Data.h5ad')"
   ]
  },
  {
   "cell_type": "code",
   "execution_count": null,
   "metadata": {},
   "outputs": [],
   "source": [
    "# 将线粒体基因组保存为注释 var.mt\n",
    "adata.var[\"mt\"] = adata.var_names.str.startswith(\"MT-\")\n",
    "# 计算指标, qc的var选择 var.mt\n",
    "sc.pp.calculate_qc_metrics(adata, qc_vars=[\"mt\"], inplace=True)\n",
    "sc.pl.scatter(adata, x='n_counts', y='percent_mito')\n",
    "# n_genes_by_counts：每个细胞中，有表达的基因的个数；\n",
    "# total_counts：每个细胞的基因总计数（总表达量）；\n",
    "# pct_counts_mt：每个细胞中，线粒体基因表达量占该细胞所有基因表达量的百分比"
   ]
  },
  {
   "cell_type": "code",
   "execution_count": null,
   "metadata": {},
   "outputs": [],
   "source": [
    "# QC and preprocessing\n",
    "fig, axs = plt.subplots(1, 4, figsize=(15, 4))\n",
    "sns.distplot(adata.obs[\"total_counts\"], kde=False, ax=axs[0])# total_counts 代表一个细胞的基因总表达量\n",
    "sns.distplot(adata.obs[\"total_counts\"][adata.obs[\"total_counts\"] < 10000], kde=False, bins=40, ax=axs[1]) # 节选部分数据可视化\n",
    "sns.distplot(adata.obs[\"n_genes_by_counts\"], kde=False, bins=60, ax=axs[2]) # n_genes_by_counts 代表一个细胞中，有表达的基因的个数\n",
    "sns.distplot(adata.obs[\"n_genes_by_counts\"][adata.obs[\"n_genes_by_counts\"] < 4000], kde=False, bins=60, ax=axs[3]) # 节选部分数据可视化"
   ]
  },
  {
   "cell_type": "code",
   "execution_count": null,
   "metadata": {},
   "outputs": [],
   "source": [
    "# 保留 total_counts 在5000到35000的细胞\n",
    "sc.pp.filter_cells(adata, min_counts=5000)\n",
    "sc.pp.filter_cells(adata, max_counts=35000)\n",
    "\n",
    "# 保留线粒体基因 pct_counts_mt 占比小于20%的细胞\n",
    "adata = adata[adata.obs[\"pct_counts_mt\"] < 20]\n",
    "print(f\"#cells after MT filter: {adata.n_obs}\")\n",
    "\n",
    "# 保留在大于10个细胞表达的基因\n",
    "sc.pp.filter_genes(adata, min_cells=10)"
   ]
  },
  {
   "cell_type": "code",
   "execution_count": null,
   "metadata": {},
   "outputs": [],
   "source": [
    "# 标准化以及对数化\n",
    "sc.pp.normalize_total(adata, inplace=True)\n",
    "sc.pp.log1p(adata)\n",
    "\n",
    "# 检测高变基因\n",
    "sc.pp.highly_variable_genes(adata, flavor=\"seurat\", n_top_genes=2000)"
   ]
  },
  {
   "cell_type": "code",
   "execution_count": null,
   "metadata": {},
   "outputs": [],
   "source": [
    "# pca降维，计算neighbors graph，umap降维，leiden聚类\n",
    "sc.pp.pca(adata)\n",
    "sc.pl.pca_variance_ratio(adata, log=True)"
   ]
  },
  {
   "cell_type": "code",
   "execution_count": null,
   "metadata": {},
   "outputs": [],
   "source": [
    "# 基于PCA的结果选择合适的PCA数量\n",
    "sc.pp.neighbors(adata, n_neighbors=10, n_pcs=40)\n",
    "sc.tl.umap(adata)\n",
    "# leiden聚类效果不好可以使用sc.tl.louvain\n",
    "sc.tl.leiden(adata, key_added=\"clusters\")"
   ]
  },
  {
   "cell_type": "code",
   "execution_count": null,
   "metadata": {},
   "outputs": [],
   "source": [
    "# 保存h5ad数据\n",
    "# os.chdir('D:/Data')\n",
    "adata.write('Umap_Data.h5ad')"
   ]
  },
  {
   "cell_type": "code",
   "execution_count": null,
   "metadata": {},
   "outputs": [],
   "source": [
    "# 基于umap可视化一些相关变量\n",
    "plt.rcParams[\"figure.figsize\"] = (4, 4)\n",
    "sc.pl.umap(adata, color=[\"total_counts\", \"n_genes_by_counts\", \"clusters\"], wspace=0.4)"
   ]
  },
  {
   "cell_type": "code",
   "execution_count": null,
   "metadata": {},
   "outputs": [],
   "source": [
    "# 查看空间坐标\n",
    "adata.obsm['spatial'].shape\n",
    "# adata.obsm['spatial']\n"
   ]
  },
  {
   "cell_type": "code",
   "execution_count": null,
   "metadata": {},
   "outputs": [],
   "source": [
    "# total_counts 和 n_genes_by_counts 在空间坐标中的分布\n",
    "plt.rcParams[\"figure.figsize\"] = (8, 8)\n",
    "sc.pl.spatial(adata, img_key=\"hires\", color=[\"total_counts\", \"n_genes_by_counts\"])"
   ]
  },
  {
   "cell_type": "code",
   "execution_count": null,
   "metadata": {},
   "outputs": [],
   "source": [
    "# clusters在空间坐标中的分布\n",
    "sc.pl.spatial(adata, img_key=\"hires\", color=\"clusters\", size=1.5)"
   ]
  },
  {
   "cell_type": "code",
   "execution_count": null,
   "metadata": {},
   "outputs": [],
   "source": [
    "# 提高透明度，以结合染色图片与转录组数据\n",
    "sc.pl.spatial(adata, img_key=\"hires\", color=\"clusters\", groups=[\"0\", \"4\"], alpha=0.5, size=1.3)"
   ]
  },
  {
   "cell_type": "code",
   "execution_count": null,
   "metadata": {},
   "outputs": [],
   "source": [
    "# 选择感兴趣的簇，计算标记基因并绘制一个热图，图中显示了簇中前10个标记基因的表达水平\n",
    "sc.tl.rank_genes_groups(adata, \"clusters\", method=\"t-test\")\n",
    "sc.pl.rank_genes_groups_heatmap(adata, groups=\"4\", n_genes=10, groupby=\"clusters\")\n"
   ]
  },
  {
   "cell_type": "code",
   "execution_count": null,
   "metadata": {},
   "outputs": [],
   "source": [
    "# 结合标记基因，在染色图片中分析\n",
    "sc.pl.spatial(adata, img_key=\"hires\", color=[\"clusters\", \"CR2\"])"
   ]
  },
  {
   "cell_type": "code",
   "execution_count": null,
   "metadata": {},
   "outputs": [],
   "source": [
    "# SpatialDE 识别空间变异基因\n",
    "%%time\n",
    "counts = pd.DataFrame(adata.X.todense(), columns=adata.var_names, index=adata.obs_names)\n",
    "coord = pd.DataFrame(adata.obsm['spatial'], columns=['x_coord', 'y_coord'], index=adata.obs_names)"
   ]
  },
  {
   "cell_type": "code",
   "execution_count": null,
   "metadata": {},
   "outputs": [],
   "source": [
    "# results中会保存基于空间转录组数据计算得到的可变基因\n",
    "results = SpatialDE.run(coord, counts) # 需要运行很久\n",
    "results.head().T"
   ]
  },
  {
   "cell_type": "code",
   "execution_count": null,
   "metadata": {},
   "outputs": [],
   "source": [
    "# 进一步查看差异较大的基因\n",
    "results.sort_values('qval').head(10)[['g', 'l', 'qval']]"
   ]
  },
  {
   "cell_type": "code",
   "execution_count": null,
   "metadata": {},
   "outputs": [],
   "source": [
    "# 检测到一些空间差异表达的基因，例如 A 和 B\n",
    "# 可视化这些基因的一种简单方法是绘制上述 x 和 y 坐标，但让颜色对应于表达水平\n",
    "figsize(10, 3)\n",
    "for i, g in enumerate(['A', 'B', 'Marker']):\n",
    "    plt.subplot(1, 3, i + 1)\n",
    "    plt.scatter(sample_info['x'], sample_info['y'], c=norm_expr[g]);\n",
    "    plt.title(g)\n",
    "    plt.axis('equal')\n",
    "    plt.colorbar(ticks=[]);"
   ]
  },
  {
   "cell_type": "code",
   "execution_count": null,
   "metadata": {},
   "outputs": [],
   "source": [
    "# 查看差异小的基因并绘制图作为对照\n",
    "results.sort_values('qval').tail(10)[['g', 'l', 'qval']]\n",
    "figsize(10, 3)\n",
    "for i, g in enumerate(['D', 'E', 'F']):\n",
    "    plt.subplot(1, 3, i + 1)\n",
    "    plt.scatter(sample_info['x'], sample_info['y'], c=norm_expr[g]);\n",
    "    plt.title(g)\n",
    "    plt.axis('equal')\n",
    "    plt.colorbar(ticks=[]);\n"
   ]
  },
  {
   "cell_type": "code",
   "execution_count": null,
   "metadata": {},
   "outputs": [],
   "source": [
    "# 由于无法通过火山图研究显著性，可以研究由空间变化解释的方差分数\n",
    "figsize(5, 4)\n",
    "plt.yscale('log')\n",
    "\n",
    "plt.scatter(results['FSV'], results['qval'], c='black')\n",
    "\n",
    "plt.axhline(0.05, c='black', lw=1, ls='--');\n",
    "\n",
    "plt.gca().invert_yaxis();\n",
    "plt.xlabel('Fraction spatial variance')\n",
    "plt.ylabel('Adj. P-value');\n"
   ]
  },
  {
   "cell_type": "code",
   "execution_count": null,
   "metadata": {},
   "outputs": [],
   "source": [
    "# 自动表达组织学\n",
    "# To perform automatic expression histology (AEH), the genes should be filtered by SpatialDE significance\n",
    "# For this example, use a very weak threshold. But in typical use, filter by qval < 0.05\n",
    "sign_results = results.query('qval < 0.5')\n",
    "sign_results['l'].value_counts()\n",
    "histology_results, patterns = SpatialDE.aeh.spatial_patterns(X, resid_expr, sign_results, C=3, l=1.8, verbosity=1)\n",
    "figsize(10, 3)\n",
    "for i in range(3):\n",
    "    plt.subplot(1, 3, i + 1)\n",
    "    plt.scatter(sample_info['x'], sample_info['y'], c=patterns[i]);\n",
    "    plt.axis('equal')\n",
    "    plt.title('Pattern {} - {} genes'.format(i, histology_results.query('pattern == @i').shape[0] ))\n",
    "    plt.colorbar(ticks=[]);\n"
   ]
  },
  {
   "cell_type": "code",
   "execution_count": null,
   "metadata": {},
   "outputs": [],
   "source": [
    "# 空间基因模式\n",
    "for i in histology_results.sort_values('pattern').pattern.unique():\n",
    "    print('Pattern {}'.format(i))\n",
    "    print(', '.join(histology_results.query('pattern == @i').sort_values('membership')['g'].tolist()))\n",
    "    print()\n",
    "# 空间高变基因，最后落回基因功能和异质性上，甚至涉及到细胞之间的通讯"
   ]
  },
  {
   "cell_type": "code",
   "execution_count": null,
   "metadata": {},
   "outputs": [],
   "source": [
    "# 基因集打分\n",
    "# scanpy.tl.score_genes\n",
    "gene_list = ['A', 'B', 'C']\n",
    "sc.tl.score_genes(adata, gene_list, ctrl_size=50, gene_pool=None, n_bins=25, score_name='score', random_state=0, copy=False, use_raw=None)\n",
    "\n",
    "# tl.score_genes_cell_cycle用给定S phase 和 G2M phase的两个基因集，计算打分，然后根据得分分配细胞phase\n"
   ]
  },
  {
   "cell_type": "code",
   "execution_count": null,
   "metadata": {},
   "outputs": [],
   "source": [
    "# 细胞周期打分，在同一簇细胞中，不同位置的细胞差异可能是细胞周期差异，选择性做该分析\n",
    "s_genes_file = data_dir + 's_genes_tirosh_hm.txt'\n",
    "g2m_genes_file = data_dir + 'g2m_genes_tirosh_hm.txt'\n",
    "\n",
    "s_genes = pd.read_table(s_genes_file, header = None).values.flatten()\n",
    "g2m_genes = pd.read_table(g2m_genes_file, header = None).values.flatten()\n",
    "\n",
    "s_genes_hvg = adata.var_names[np.in1d(adata.var_names, s_genes)]\n",
    "g2m_genes_hvg = adata.var_names[np.in1d(adata.var_names, g2m_genes)]\n",
    "\n",
    "adata.obs['S_score']= np.zeros(adata.shape[0])\n",
    "adata.obs['G2M_score'] = np.zeros(adata.shape[0])\n",
    "adata.obs['phase'] = np.zeros(adata.shape[0])\n",
    "\n",
    "sc.tl.score_genes_cell_cycle(adata, s_genes=s_genes_hvg, g2m_genes=g2m_genes_hvg)\n",
    "\n",
    "print(len(s_genes_hvg))\n",
    "print(len(g2m_genes_hvg))"
   ]
  },
  {
   "cell_type": "code",
   "execution_count": null,
   "metadata": {},
   "outputs": [],
   "source": [
    "adata.obs['phase'].value_counts()"
   ]
  },
  {
   "cell_type": "code",
   "execution_count": null,
   "metadata": {},
   "outputs": [],
   "source": [
    "# Before we save the data to file, we convert the gene expression matrix X to the sparse format to memory.\n",
    "import scipy.sparse as sparse\n",
    "\n",
    "adata.X = sparse.csr_matrix(adata.X)\n",
    "adata.write('data_processed.h5ad')"
   ]
  },
  {
   "cell_type": "code",
   "execution_count": null,
   "metadata": {},
   "outputs": [],
   "source": [
    "# 细胞亚型注释\n",
    "marker_genes = ['IL7R', 'CD79A', 'MS4A1', 'CD8A', 'CD8B', 'LYZ', 'CD14',\n",
    "                'LGALS3', 'S100A8', 'GNLY', 'NKG7', 'KLRB1',\n",
    "                'FCGR3A', 'MS4A7', 'FCER1A', 'CST3', 'PPBP']\n",
    "\n",
    "sc.pl.dotplot(adata=, \n",
    "              var_names =,\n",
    "              groupby=, \n",
    "              use_raw=False)\n",
    "\n",
    "sc.pl.heatmap(adata=, var_names=, \n",
    "              figsize=(5,10),\n",
    "              groupby=, \n",
    "              use_raw=False, vmin=0)\n",
    "\n",
    "sc.pl.matrixplot(adata=, var_names=,\n",
    "                 groupby=, \n",
    "                 use_raw=False, vmin=0)\n",
    "\n",
    "sc.pl.stacked_violin(adata = ,var_names = , groupby=, \n",
    "                     use_raw=False)"
   ]
  },
  {
   "cell_type": "code",
   "execution_count": null,
   "metadata": {},
   "outputs": [],
   "source": [
    "adata.obs['annotated'] = adata.obs['louvain_r1.5'].cat.add_categories(['CD4 T cells', \n",
    "                        'CD14+ Monocytes', 'B cells', 'CD8 T cells', \n",
    "                        'FCGR3A+ Monocytes', 'NK cells', 'Dendritic cells', 'Megakaryocytes'])\n",
    "\n",
    "adata.obs['annotated'][np.in1d(adata.obs['annotated'], ['cluster name'])] = 'CD4 T cells'\n",
    "adata.obs['annotated'][np.in1d(adata.obs['annotated'], ['cluster name'])] = 'CD14+ Monocytes'\n",
    "adata.obs['annotated'][np.in1d(adata.obs['annotated'], ['cluster name'])] = 'B cells'\n",
    "adata.obs['annotated'][np.in1d(adata.obs['annotated'], ['cluster name'])] = 'CD8 T cells'\n",
    "adata.obs['annotated'][np.in1d(adata.obs['annotated'], ['cluster name'])] = 'FCGR3A+ Monocytes'\n",
    "adata.obs['annotated'][np.in1d(adata.obs['annotated'], ['cluster name'])] = 'NK cells'\n",
    "adata.obs['annotated'][np.in1d(adata.obs['annotated'], ['cluster name'])] = 'Dendritic cells'\n",
    "adata.obs['annotated'][np.in1d(adata.obs['annotated'], ['cluster name'])] = 'Megakaryocytes'\n",
    "\n",
    "#remove unused categories from annotation\n",
    "adata.obs['annotated'] = adata.obs['annotated'].cat.remove_unused_categories()\n",
    "\n",
    "adata.obs['annotated'].value_counts()"
   ]
  },
  {
   "cell_type": "code",
   "execution_count": null,
   "metadata": {},
   "outputs": [],
   "source": [
    "sc.pl.umap(adata, color='annotated', legend_loc='on data', title='', frameon=False)\n",
    "sc.pl.umap(adata, color='annotated',  title='', frameon=True)\n",
    "\n",
    "sc.pl.dotplot(adata=, \n",
    "              var_names =,\n",
    "              groupby=, \n",
    "              use_raw=False)\n",
    "\n",
    "sc.pl.heatmap(adata=, var_names=, \n",
    "              figsize=(5,10),\n",
    "              groupby=, \n",
    "              use_raw=False, vmin=0)\n",
    "\n",
    "sc.pl.matrixplot(adata=, var_names=,\n",
    "                 groupby=, \n",
    "                 use_raw=False, vmin=0)\n",
    "\n",
    "sc.pl.stacked_violin(adata = ,var_names = , groupby=, \n",
    "                     use_raw=False)"
   ]
  },
  {
   "cell_type": "code",
   "execution_count": null,
   "metadata": {},
   "outputs": [],
   "source": [
    "adata.write('data_annoated.h5ad')"
   ]
  },
  {
   "cell_type": "code",
   "execution_count": null,
   "metadata": {},
   "outputs": [],
   "source": [
    "# PAGA\n",
    "sc.tl.paga(adata = adata, groups='annotated')\n",
    "\n",
    "rcParams['figure.figsize']=(7,7)\n",
    "sc.pl.paga_compare(adata = adata, basis='umap', frameon=True)"
   ]
  },
  {
   "cell_type": "code",
   "execution_count": null,
   "metadata": {},
   "outputs": [],
   "source": [
    "adata.write('data_PAGA.h5ad')"
   ]
  },
  {
   "cell_type": "code",
   "execution_count": null,
   "metadata": {},
   "outputs": [],
   "source": [
    "# Pseudotime 拟时序分析\n",
    "# 选择细胞亚群\n",
    "adata_mono = adata[np.in1d(adata.obs['annotated'], \n",
    "                           ['CD14+ Monocytes', 'FCGR3A+ Monocytes'])].copy()\n",
    "\n",
    "sc.tl.pca(adata_mono, svd_solver='arpack')\n",
    "sc.pp.neighbors(adata_mono)\n",
    "\n",
    "# Convert UMAP indices to arrays.\n",
    "umap_0 = [term[0] for term in adata_mono.obsm['X_umap']]\n",
    "umap_1 = [term[1] for term in adata_mono.obsm['X_umap']]"
   ]
  },
  {
   "cell_type": "code",
   "execution_count": null,
   "metadata": {},
   "outputs": [],
   "source": [
    "# Set root cell to the cell with the smallest value in the first UMAP component and compute DPT.\n",
    "adata_mono.uns['iroot'] = np.flatnonzero(umap_0== max(umap_0))[0]\n",
    "sc.tl.dpt(adata = adata_mono)"
   ]
  },
  {
   "cell_type": "code",
   "execution_count": null,
   "metadata": {},
   "outputs": [],
   "source": [
    "# Visualise DPT on a UMAP and on a diffusion map.\n",
    "rcParams['figure.figsize']=(7,7)\n",
    "sc.pl.umap(adata_mono, color=['dpt_pseudotime', 'annotated'])\n",
    "\n",
    "rcParams['figure.figsize']=(7,7)\n",
    "sc.pl.diffmap(adata_mono, color=['dpt_pseudotime', 'annotated'], components=['1,2'])\n",
    "sc.pl.diffmap(adata_mono, color=['dpt_pseudotime', 'annotated'], components=['1,3'])"
   ]
  },
  {
   "cell_type": "code",
   "execution_count": null,
   "metadata": {},
   "outputs": [],
   "source": [
    "# Run a differential test on the two groups of monocytes in order to determine characteristic genes.  \n",
    "sc.tl.rank_genes_groups(adata_mono, groupby='annotated', \n",
    "                        groups= ['FCGR3A+ Monocytes'], reference='CD14+ Monocytes', rankby_abs=True)\n",
    "\n",
    "rcParams['figure.figsize']=(10,5)\n",
    "sc.pl.rank_genes_groups(adata_mono, size=10, n_genes=30)"
   ]
  },
  {
   "cell_type": "code",
   "execution_count": null,
   "metadata": {},
   "outputs": [],
   "source": [
    "rcParams['figure.figsize']= (15,5)\n",
    "sc.pl.rank_genes_groups_violin(adata_mono, use_raw=False)"
   ]
  },
  {
   "cell_type": "code",
   "execution_count": null,
   "metadata": {},
   "outputs": [],
   "source": [
    "mono_genes = [idx[1][0] for idx in enumerate(adata_mono.uns['rank_genes_groups']['names'])]\n",
    "\n",
    "# In order to visualise the gene expression along pseudotime, we have to compute PAGA for the two groups of monocytes.\n",
    "sc.tl.paga(adata_mono, groups='annotated')"
   ]
  },
  {
   "cell_type": "code",
   "execution_count": null,
   "metadata": {},
   "outputs": [],
   "source": [
    "# Modify the format of the data matrix, because `paga_path` takes only dense matrices\n",
    "adata_mono.X = adata_mono.X.todense()\n",
    "\n",
    "rcParams['figure.figsize']=(20,10)\n",
    "sc.pl.paga_path(adata_mono, nodes=['FCGR3A+ Monocytes','CD14+ Monocytes'], \n",
    "                keys=mono_genes[:25],n_avg=10, use_raw=False, save='_monocyte_transition.pdf')"
   ]
  }
 ],
 "metadata": {
  "kernelspec": {
   "display_name": "base",
   "language": "python",
   "name": "python3"
  },
  "language_info": {
   "codemirror_mode": {
    "name": "ipython",
    "version": 3
   },
   "file_extension": ".py",
   "mimetype": "text/x-python",
   "name": "python",
   "nbconvert_exporter": "python",
   "pygments_lexer": "ipython3",
   "version": "3.10.9"
  },
  "orig_nbformat": 4
 },
 "nbformat": 4,
 "nbformat_minor": 2
}
