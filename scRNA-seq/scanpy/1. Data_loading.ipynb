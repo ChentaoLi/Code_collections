{
 "cells": [
  {
   "cell_type": "code",
   "execution_count": 1,
   "metadata": {},
   "outputs": [
    {
     "name": "stderr",
     "output_type": "stream",
     "text": [
      "Global seed set to 0\n"
     ]
    }
   ],
   "source": [
    "# Packages\n",
    "import scanpy as sc # package for scRNA-seq data analysis\n",
    "import numpy as np\n",
    "import pandas as pd\n",
    "import os\n",
    "import scvi"
   ]
  },
  {
   "cell_type": "code",
   "execution_count": 2,
   "metadata": {},
   "outputs": [],
   "source": [
    "# GSE186596 2 patients 制备9天后收集CAR-T\n",
    "os.chdir('D:/OneDrive - International Campus, Zhejiang University/CAR_T_data/GSE186596') # Change pathway\n",
    "\n",
    "adata_P1_UT = sc.read_10x_mtx('GSM5657287', var_names='gene_symbols', cache=True)\n",
    "adata_P1_UT.obs['sample_name'] = 'GSM5657287'\n",
    "adata_P1_UT.obs['Patient'] = 'Patient1'\n",
    "adata_P1_UT.obs['HP'] = 'Patient'\n",
    "adata_P1_UT.obs['method'] = 'Untreated'\n",
    "\n",
    "adata_P1_LV_CAR = sc.read_10x_mtx('GSM5657288', var_names='gene_symbols', cache=True)\n",
    "adata_P1_LV_CAR.obs['sample_name'] = 'GSM5657288'\n",
    "adata_P1_LV_CAR.obs['Patient'] = 'Patient1'\n",
    "adata_P1_LV_CAR.obs['HP'] = 'Patient'\n",
    "adata_P1_LV_CAR.obs['method'] = 'LV-19bbz'\n",
    "\n",
    "adata_P1_LV_CAR_PD1 = sc.read_10x_mtx('GSM5657289', var_names='gene_symbols', cache=True)\n",
    "adata_P1_LV_CAR_PD1.obs['sample_name'] = 'GSM5657289'\n",
    "adata_P1_LV_CAR_PD1.obs['Patient'] = 'Patient1'\n",
    "adata_P1_LV_CAR_PD1.obs['HP'] = 'Patient'\n",
    "adata_P1_LV_CAR_PD1.obs['method'] = 'LV-19bbz_PD1-KO'\n",
    "\n",
    "adata_P1_AAVS1 = sc.read_10x_mtx('GSM5657290', var_names='gene_symbols', cache=True)\n",
    "adata_P1_AAVS1.obs['sample_name'] = 'GSM5657290'\n",
    "adata_P1_AAVS1.obs['Patient'] = 'Patient1'\n",
    "adata_P1_AAVS1.obs['HP'] = 'Patient'\n",
    "adata_P1_AAVS1.obs['method'] = 'AAVS1-19bbz'\n",
    "\n",
    "adata_P1_ET = sc.read_10x_mtx('GSM5657291', var_names='gene_symbols', cache=True)\n",
    "adata_P1_ET.obs['sample_name'] = 'GSM5657291'\n",
    "adata_P1_ET.obs['Patient'] = 'Patient1'\n",
    "adata_P1_ET.obs['HP'] = 'Patient'\n",
    "adata_P1_ET.obs['method'] = 'PD1-19bbz'\n",
    "\n"
   ]
  },
  {
   "cell_type": "code",
   "execution_count": 3,
   "metadata": {},
   "outputs": [],
   "source": [
    "adata_P2_UT = sc.read_10x_mtx('GSM5657292', var_names='gene_symbols', cache=True)\n",
    "adata_P2_UT.obs['sample_name'] = 'GSM5657292'\n",
    "adata_P2_UT.obs['Patient'] = 'Patient2'\n",
    "adata_P2_UT.obs['HP'] = 'Patient'\n",
    "adata_P2_UT.obs['method'] = 'Untreated'\n",
    "\n",
    "adata_P2_LV_CAR = sc.read_10x_mtx('GSM5657293', var_names='gene_symbols', cache=True)\n",
    "adata_P2_LV_CAR.obs['sample_name'] = 'GSM5657293'\n",
    "adata_P2_LV_CAR.obs['Patient'] = 'Patient2'\n",
    "adata_P2_LV_CAR.obs['HP'] = 'Patient'\n",
    "adata_P2_LV_CAR.obs['method'] = 'LV-19bbz'\n",
    "\n",
    "adata_P2_LV_CAR_PD1 = sc.read_10x_mtx('GSM5657294', var_names='gene_symbols', cache=True)\n",
    "adata_P2_LV_CAR_PD1.obs['sample_name'] = 'GSM5657294'\n",
    "adata_P2_LV_CAR_PD1.obs['Patient'] = 'Patient2'\n",
    "adata_P2_LV_CAR_PD1.obs['HP'] = 'Patient'\n",
    "adata_P2_LV_CAR_PD1.obs['method'] = 'LV-19bbz_PD1-KO'\n",
    "\n",
    "adata_P2_AAVS1 = sc.read_10x_mtx('GSM5657295', var_names='gene_symbols', cache=True)\n",
    "adata_P2_AAVS1.obs['sample_name'] = 'GSM5657295'\n",
    "adata_P2_AAVS1.obs['Patient'] = 'Patient2'\n",
    "adata_P2_AAVS1.obs['HP'] = 'Patient'\n",
    "adata_P2_AAVS1.obs['method'] = 'AAVS1-19bbz'\n",
    "\n",
    "adata_P2_ET = sc.read_10x_mtx('GSM5657296', var_names='gene_symbols', cache=True)\n",
    "adata_P2_ET.obs['sample_name'] = 'GSM5657296'\n",
    "adata_P2_ET.obs['Patient'] = 'Patient2'\n",
    "adata_P2_ET.obs['HP'] = 'Patient'\n",
    "adata_P2_ET.obs['method'] = 'PD1-19bbz'\n"
   ]
  },
  {
   "cell_type": "code",
   "execution_count": 4,
   "metadata": {},
   "outputs": [],
   "source": [
    "os.chdir('D:/OneDrive - International Campus, Zhejiang University/CAR_T_data/GSE201035') # Change pathway\n",
    "adata_H1_UT = sc.read_10x_mtx('GSM6049341', var_names='gene_symbols', cache=True)\n",
    "adata_H1_UT.obs['sample_name'] = 'GSM6049341'\n",
    "adata_H1_UT.obs['Patient'] = 'Healthy1'\n",
    "adata_H1_UT.obs['HP'] = 'Healthy'\n",
    "adata_H1_UT.obs['method'] = 'Untreated'\n",
    "\n",
    "adata_H1_LV_CAR = sc.read_10x_mtx('GSM6049344', var_names='gene_symbols', cache=True)\n",
    "adata_H1_LV_CAR.obs['sample_name'] = 'GSM6049344'\n",
    "adata_H1_LV_CAR.obs['Patient'] = 'Healthy1'\n",
    "adata_H1_LV_CAR.obs['HP'] = 'Healthy'\n",
    "adata_H1_LV_CAR.obs['method'] = 'LV-19bbz'\n",
    "\n",
    "adata_H1_AAVS1 = sc.read_10x_mtx('GSM6049356', var_names='gene_symbols', cache=True)\n",
    "adata_H1_AAVS1.obs['sample_name'] = 'GSM6049356'\n",
    "adata_H1_AAVS1.obs['Patient'] = 'Healthy1'\n",
    "adata_H1_AAVS1.obs['HP'] = 'Healthy'\n",
    "adata_H1_AAVS1.obs['method'] = 'AAVS1-19bbz'\n",
    "\n",
    "adata_H1_ET = sc.read_10x_mtx('GSM6049359', var_names='gene_symbols', cache=True)\n",
    "adata_H1_ET.obs['sample_name'] = 'GSM6049359'\n",
    "adata_H1_ET.obs['Patient'] = 'Healthy1'\n",
    "adata_H1_ET.obs['HP'] = 'Healthy'\n",
    "adata_H1_ET.obs['method'] = 'PD1-19bbz'\n",
    "\n",
    "adata_H2_UT = sc.read_10x_mtx('GSM6049362', var_names='gene_symbols', cache=True)\n",
    "adata_H2_UT.obs['sample_name'] = 'GSM6049362'\n",
    "adata_H2_UT.obs['Patient'] = 'Healthy2'\n",
    "adata_H2_UT.obs['HP'] = 'Healthy'\n",
    "adata_H2_UT.obs['method'] = 'Untreated'\n",
    "\n",
    "adata_H2_LV_CAR = sc.read_10x_mtx('GSM6049365', var_names='gene_symbols', cache=True)\n",
    "adata_H2_LV_CAR.obs['sample_name'] = 'GSM6049365'\n",
    "adata_H2_LV_CAR.obs['Patient'] = 'Healthy2'\n",
    "adata_H2_LV_CAR.obs['HP'] = 'Healthy'\n",
    "adata_H2_LV_CAR.obs['method'] = 'LV-19bbz'\n",
    "\n",
    "adata_H2_AAVS1 = sc.read_10x_mtx('GSM6049377', var_names='gene_symbols', cache=True)\n",
    "adata_H2_AAVS1.obs['sample_name'] = 'GSM6049377'\n",
    "adata_H2_AAVS1.obs['Patient'] = 'Healthy2'\n",
    "adata_H2_AAVS1.obs['HP'] = 'Healthy'\n",
    "adata_H2_AAVS1.obs['method'] = 'AAVS1-19bbz'\n",
    "\n",
    "adata_H2_ET = sc.read_10x_mtx('GSM6049378', var_names='gene_symbols', cache=True)\n",
    "adata_H2_ET.obs['sample_name'] = 'GSM6049378'\n",
    "adata_H2_ET.obs['Patient'] = 'Healthy2'\n",
    "adata_H2_ET.obs['HP'] = 'Healthy'\n",
    "adata_H2_ET.obs['method'] = 'PD1-19bbz'\n"
   ]
  },
  {
   "cell_type": "code",
   "execution_count": 5,
   "metadata": {},
   "outputs": [],
   "source": [
    "P1 = [adata_P1_UT, adata_P1_LV_CAR, adata_P1_LV_CAR_PD1, adata_P1_AAVS1, adata_P1_ET]\n",
    "P2 = [adata_P2_UT, adata_P2_LV_CAR, adata_P2_LV_CAR_PD1, adata_P2_AAVS1, adata_P2_ET]\n",
    "H1 = [adata_H1_UT, adata_H1_LV_CAR, adata_H1_AAVS1, adata_H1_ET]\n",
    "H2 = [adata_H2_UT, adata_H2_LV_CAR, adata_H2_AAVS1, adata_H2_ET]"
   ]
  },
  {
   "cell_type": "code",
   "execution_count": 6,
   "metadata": {},
   "outputs": [
    {
     "name": "stderr",
     "output_type": "stream",
     "text": [
      "d:\\Python 3.10\\lib\\site-packages\\anndata\\_core\\anndata.py:1785: FutureWarning: X.dtype being converted to np.float32 from float64. In the next version of anndata (0.9) conversion will not be automatic. Pass dtype explicitly to avoid this warning. Pass `AnnData(X, dtype=X.dtype, ...)` to get the future behavour.\n",
      "  [AnnData(sparse.csr_matrix(a.shape), obs=a.obs) for a in all_adatas],\n",
      "d:\\Python 3.10\\lib\\site-packages\\anndata\\_core\\anndata.py:1785: FutureWarning: X.dtype being converted to np.float32 from float64. In the next version of anndata (0.9) conversion will not be automatic. Pass dtype explicitly to avoid this warning. Pass `AnnData(X, dtype=X.dtype, ...)` to get the future behavour.\n",
      "  [AnnData(sparse.csr_matrix(a.shape), obs=a.obs) for a in all_adatas],\n",
      "d:\\Python 3.10\\lib\\site-packages\\anndata\\_core\\anndata.py:1785: FutureWarning: X.dtype being converted to np.float32 from float64. In the next version of anndata (0.9) conversion will not be automatic. Pass dtype explicitly to avoid this warning. Pass `AnnData(X, dtype=X.dtype, ...)` to get the future behavour.\n",
      "  [AnnData(sparse.csr_matrix(a.shape), obs=a.obs) for a in all_adatas],\n",
      "d:\\Python 3.10\\lib\\site-packages\\anndata\\_core\\anndata.py:1785: FutureWarning: X.dtype being converted to np.float32 from float64. In the next version of anndata (0.9) conversion will not be automatic. Pass dtype explicitly to avoid this warning. Pass `AnnData(X, dtype=X.dtype, ...)` to get the future behavour.\n",
      "  [AnnData(sparse.csr_matrix(a.shape), obs=a.obs) for a in all_adatas],\n",
      "d:\\Python 3.10\\lib\\site-packages\\anndata\\_core\\anndata.py:1785: FutureWarning: X.dtype being converted to np.float32 from float64. In the next version of anndata (0.9) conversion will not be automatic. Pass dtype explicitly to avoid this warning. Pass `AnnData(X, dtype=X.dtype, ...)` to get the future behavour.\n",
      "  [AnnData(sparse.csr_matrix(a.shape), obs=a.obs) for a in all_adatas],\n",
      "d:\\Python 3.10\\lib\\site-packages\\anndata\\_core\\anndata.py:1785: FutureWarning: X.dtype being converted to np.float32 from float64. In the next version of anndata (0.9) conversion will not be automatic. Pass dtype explicitly to avoid this warning. Pass `AnnData(X, dtype=X.dtype, ...)` to get the future behavour.\n",
      "  [AnnData(sparse.csr_matrix(a.shape), obs=a.obs) for a in all_adatas],\n",
      "d:\\Python 3.10\\lib\\site-packages\\anndata\\_core\\anndata.py:1785: FutureWarning: X.dtype being converted to np.float32 from float64. In the next version of anndata (0.9) conversion will not be automatic. Pass dtype explicitly to avoid this warning. Pass `AnnData(X, dtype=X.dtype, ...)` to get the future behavour.\n",
      "  [AnnData(sparse.csr_matrix(a.shape), obs=a.obs) for a in all_adatas],\n",
      "d:\\Python 3.10\\lib\\site-packages\\anndata\\_core\\anndata.py:1785: FutureWarning: X.dtype being converted to np.float32 from float64. In the next version of anndata (0.9) conversion will not be automatic. Pass dtype explicitly to avoid this warning. Pass `AnnData(X, dtype=X.dtype, ...)` to get the future behavour.\n",
      "  [AnnData(sparse.csr_matrix(a.shape), obs=a.obs) for a in all_adatas],\n",
      "d:\\Python 3.10\\lib\\site-packages\\anndata\\_core\\anndata.py:1785: FutureWarning: X.dtype being converted to np.float32 from float64. In the next version of anndata (0.9) conversion will not be automatic. Pass dtype explicitly to avoid this warning. Pass `AnnData(X, dtype=X.dtype, ...)` to get the future behavour.\n",
      "  [AnnData(sparse.csr_matrix(a.shape), obs=a.obs) for a in all_adatas],\n",
      "d:\\Python 3.10\\lib\\site-packages\\anndata\\_core\\anndata.py:1785: FutureWarning: X.dtype being converted to np.float32 from float64. In the next version of anndata (0.9) conversion will not be automatic. Pass dtype explicitly to avoid this warning. Pass `AnnData(X, dtype=X.dtype, ...)` to get the future behavour.\n",
      "  [AnnData(sparse.csr_matrix(a.shape), obs=a.obs) for a in all_adatas],\n",
      "d:\\Python 3.10\\lib\\site-packages\\anndata\\_core\\anndata.py:1785: FutureWarning: X.dtype being converted to np.float32 from float64. In the next version of anndata (0.9) conversion will not be automatic. Pass dtype explicitly to avoid this warning. Pass `AnnData(X, dtype=X.dtype, ...)` to get the future behavour.\n",
      "  [AnnData(sparse.csr_matrix(a.shape), obs=a.obs) for a in all_adatas],\n",
      "d:\\Python 3.10\\lib\\site-packages\\anndata\\_core\\anndata.py:1785: FutureWarning: X.dtype being converted to np.float32 from float64. In the next version of anndata (0.9) conversion will not be automatic. Pass dtype explicitly to avoid this warning. Pass `AnnData(X, dtype=X.dtype, ...)` to get the future behavour.\n",
      "  [AnnData(sparse.csr_matrix(a.shape), obs=a.obs) for a in all_adatas],\n",
      "d:\\Python 3.10\\lib\\site-packages\\anndata\\_core\\anndata.py:1785: FutureWarning: X.dtype being converted to np.float32 from float64. In the next version of anndata (0.9) conversion will not be automatic. Pass dtype explicitly to avoid this warning. Pass `AnnData(X, dtype=X.dtype, ...)` to get the future behavour.\n",
      "  [AnnData(sparse.csr_matrix(a.shape), obs=a.obs) for a in all_adatas],\n",
      "d:\\Python 3.10\\lib\\site-packages\\anndata\\_core\\anndata.py:1785: FutureWarning: X.dtype being converted to np.float32 from float64. In the next version of anndata (0.9) conversion will not be automatic. Pass dtype explicitly to avoid this warning. Pass `AnnData(X, dtype=X.dtype, ...)` to get the future behavour.\n",
      "  [AnnData(sparse.csr_matrix(a.shape), obs=a.obs) for a in all_adatas],\n",
      "d:\\Python 3.10\\lib\\site-packages\\anndata\\_core\\anndata.py:1785: FutureWarning: X.dtype being converted to np.float32 from float64. In the next version of anndata (0.9) conversion will not be automatic. Pass dtype explicitly to avoid this warning. Pass `AnnData(X, dtype=X.dtype, ...)` to get the future behavour.\n",
      "  [AnnData(sparse.csr_matrix(a.shape), obs=a.obs) for a in all_adatas],\n",
      "d:\\Python 3.10\\lib\\site-packages\\anndata\\_core\\anndata.py:1785: FutureWarning: X.dtype being converted to np.float32 from float64. In the next version of anndata (0.9) conversion will not be automatic. Pass dtype explicitly to avoid this warning. Pass `AnnData(X, dtype=X.dtype, ...)` to get the future behavour.\n",
      "  [AnnData(sparse.csr_matrix(a.shape), obs=a.obs) for a in all_adatas],\n",
      "d:\\Python 3.10\\lib\\site-packages\\anndata\\_core\\anndata.py:1785: FutureWarning: X.dtype being converted to np.float32 from float64. In the next version of anndata (0.9) conversion will not be automatic. Pass dtype explicitly to avoid this warning. Pass `AnnData(X, dtype=X.dtype, ...)` to get the future behavour.\n",
      "  [AnnData(sparse.csr_matrix(a.shape), obs=a.obs) for a in all_adatas],\n",
      "d:\\Python 3.10\\lib\\site-packages\\anndata\\_core\\anndata.py:1785: FutureWarning: X.dtype being converted to np.float32 from float64. In the next version of anndata (0.9) conversion will not be automatic. Pass dtype explicitly to avoid this warning. Pass `AnnData(X, dtype=X.dtype, ...)` to get the future behavour.\n",
      "  [AnnData(sparse.csr_matrix(a.shape), obs=a.obs) for a in all_adatas],\n"
     ]
    }
   ],
   "source": [
    "adata_p1 = adata_P1_UT.concatenate(adata_P1_LV_CAR, adata_P1_LV_CAR_PD1, adata_P1_AAVS1, adata_P1_ET)\n",
    "adata_p2 = adata_P2_UT.concatenate(adata_P2_LV_CAR, adata_P2_LV_CAR_PD1, adata_P2_AAVS1, adata_P2_ET)\n",
    "adata_h1 = adata_H1_UT.concatenate(adata_H1_LV_CAR, adata_H1_AAVS1, adata_H1_ET)\n",
    "adata_h2 = adata_H2_UT.concatenate(adata_H2_LV_CAR, adata_H2_AAVS1, adata_H2_ET)"
   ]
  },
  {
   "cell_type": "code",
   "execution_count": 7,
   "metadata": {},
   "outputs": [
    {
     "name": "stderr",
     "output_type": "stream",
     "text": [
      "d:\\Python 3.10\\lib\\site-packages\\anndata\\_core\\anndata.py:1785: FutureWarning: X.dtype being converted to np.float32 from float64. In the next version of anndata (0.9) conversion will not be automatic. Pass dtype explicitly to avoid this warning. Pass `AnnData(X, dtype=X.dtype, ...)` to get the future behavour.\n",
      "  [AnnData(sparse.csr_matrix(a.shape), obs=a.obs) for a in all_adatas],\n",
      "d:\\Python 3.10\\lib\\site-packages\\anndata\\_core\\anndata.py:1785: FutureWarning: X.dtype being converted to np.float32 from float64. In the next version of anndata (0.9) conversion will not be automatic. Pass dtype explicitly to avoid this warning. Pass `AnnData(X, dtype=X.dtype, ...)` to get the future behavour.\n",
      "  [AnnData(sparse.csr_matrix(a.shape), obs=a.obs) for a in all_adatas],\n",
      "d:\\Python 3.10\\lib\\site-packages\\anndata\\_core\\anndata.py:1785: FutureWarning: X.dtype being converted to np.float32 from float64. In the next version of anndata (0.9) conversion will not be automatic. Pass dtype explicitly to avoid this warning. Pass `AnnData(X, dtype=X.dtype, ...)` to get the future behavour.\n",
      "  [AnnData(sparse.csr_matrix(a.shape), obs=a.obs) for a in all_adatas],\n",
      "d:\\Python 3.10\\lib\\site-packages\\anndata\\_core\\anndata.py:1785: FutureWarning: X.dtype being converted to np.float32 from float64. In the next version of anndata (0.9) conversion will not be automatic. Pass dtype explicitly to avoid this warning. Pass `AnnData(X, dtype=X.dtype, ...)` to get the future behavour.\n",
      "  [AnnData(sparse.csr_matrix(a.shape), obs=a.obs) for a in all_adatas],\n"
     ]
    }
   ],
   "source": [
    "adata = adata_p1.concatenate(adata_p2, adata_h1, adata_h2)"
   ]
  },
  {
   "cell_type": "code",
   "execution_count": 8,
   "metadata": {},
   "outputs": [
    {
     "name": "stdout",
     "output_type": "stream",
     "text": [
      "\u001b[34mINFO    \u001b[0m Using batches from adata.obs\u001b[1m[\u001b[0m\u001b[32m\"sample_name\"\u001b[0m\u001b[1m]\u001b[0m                                                               \n",
      "\u001b[34mINFO    \u001b[0m No label_key inputted, assuming all cells have same label                                                 \n",
      "\u001b[34mINFO    \u001b[0m Using data from adata.X                                                                                   \n",
      "\u001b[34mINFO    \u001b[0m Successfully registered anndata object containing \u001b[1;36m148146\u001b[0m cells, \u001b[1;36m27984\u001b[0m vars, \u001b[1;36m18\u001b[0m batches, \u001b[1;36m1\u001b[0m labels, and \u001b[1;36m0\u001b[0m   \n",
      "         proteins. Also registered \u001b[1;36m0\u001b[0m extra categorical covariates and \u001b[1;36m0\u001b[0m extra continuous covariates.               \n",
      "\u001b[34mINFO    \u001b[0m Please do not further modify adata until model is trained.                                                \n"
     ]
    }
   ],
   "source": [
    "scvi.model.SCVI.setup_anndata(adata, batch_key=\"sample_name\")"
   ]
  },
  {
   "cell_type": "code",
   "execution_count": 9,
   "metadata": {},
   "outputs": [],
   "source": [
    "os.chdir('D:/OneDrive - International Campus, Zhejiang University/CAR_T_data')\n",
    "adata.write('adata_batch.h5ad')"
   ]
  },
  {
   "cell_type": "code",
   "execution_count": null,
   "metadata": {},
   "outputs": [],
   "source": []
  },
  {
   "cell_type": "code",
   "execution_count": null,
   "metadata": {},
   "outputs": [],
   "source": []
  },
  {
   "cell_type": "code",
   "execution_count": null,
   "metadata": {},
   "outputs": [],
   "source": []
  },
  {
   "cell_type": "code",
   "execution_count": null,
   "metadata": {},
   "outputs": [],
   "source": [
    "os.chdir('D:/OneDrive - International Campus, Zhejiang University/CAR_T_data') # Change pathway\n",
    "adata_p1.write('adata_p1.h5ad')\n",
    "adata_p2.write('adata_p2.h5ad')\n",
    "adata_h1.write('adata_h1.h5ad')\n",
    "adata_h2.write('adata_h2.h5ad')"
   ]
  },
  {
   "cell_type": "code",
   "execution_count": null,
   "metadata": {},
   "outputs": [],
   "source": [
    "adata_UT = adata_p1.concatenate(adata_p2, adata_h1, adata_h2)\n",
    "adata_UT.write('adata_UT.h5ad')"
   ]
  },
  {
   "cell_type": "code",
   "execution_count": null,
   "metadata": {},
   "outputs": [],
   "source": [
    "Data = [adata_p1, adata_p2, adata_h1, adata_h2]\n",
    "for adata in Data:\n",
    "    # ComBat batch correction\n",
    "    sc.pp.combat(adata, key='sample_name')"
   ]
  },
  {
   "cell_type": "code",
   "execution_count": null,
   "metadata": {},
   "outputs": [],
   "source": [
    "adata_p1.write('adata_p1c.h5ad')\n",
    "adata_p2.write('adata_p2c.h5ad')\n",
    "adata_h1.write('adata_h1c.h5ad')\n",
    "adata_h2.write('adata_h2c.h5ad')"
   ]
  },
  {
   "cell_type": "code",
   "execution_count": null,
   "metadata": {},
   "outputs": [],
   "source": [
    "adata_p1 = adata_P1_UT.concatenate(adata_P1_LV_CAR, adata_P1_LV_CAR_PD1, adata_P1_AAVS1, adata_P1_ET)\n",
    "adata_p2 = adata_P2_UT.concatenate(adata_P2_LV_CAR, adata_P2_LV_CAR_PD1, adata_P2_AAVS1, adata_P2_ET)\n",
    "adata_h1 = adata_H1_UT.concatenate(adata_H1_LV_CAR, adata_H1_AAVS1, adata_H1_ET)\n",
    "adata_h2 = adata_H2_UT.concatenate(adata_H2_LV_CAR, adata_H2_AAVS1, adata_H2_ET)"
   ]
  },
  {
   "cell_type": "code",
   "execution_count": null,
   "metadata": {},
   "outputs": [],
   "source": [
    "for adata in Data:\n",
    "    scvi.model.SCVI.setup_anndata(adata, batch_key=\"batch\")"
   ]
  },
  {
   "cell_type": "code",
   "execution_count": null,
   "metadata": {},
   "outputs": [],
   "source": [
    "adata_p1.write('adata_P1.h5ad')\n",
    "adata_p2.write('adata_P2.h5ad')\n",
    "adata_h1.write('adata_H1.h5ad')\n",
    "adata_h2.write('adata_H2.h5ad')"
   ]
  },
  {
   "cell_type": "code",
   "execution_count": null,
   "metadata": {},
   "outputs": [],
   "source": [
    "# Packages\n",
    "import scanpy as sc # package for scRNA-seq data analysis\n",
    "import numpy as np\n",
    "import pandas as pd\n",
    "import os\n",
    "import scvi"
   ]
  },
  {
   "cell_type": "code",
   "execution_count": null,
   "metadata": {},
   "outputs": [],
   "source": [
    "os.chdir('D:/OneDrive - International Campus, Zhejiang University/CAR_T_data')\n",
    "adata_p1 = sc.read('adata_p1.h5ad')\n",
    "adata_p2 = sc.read('adata_p2.h5ad')\n",
    "adata_h1 = sc.read('adata_h1.h5ad')\n",
    "adata_h2 = sc.read('adata_h2.h5ad')"
   ]
  },
  {
   "cell_type": "code",
   "execution_count": null,
   "metadata": {},
   "outputs": [],
   "source": [
    "adata_P1 = sc.read('adata_P1.h5ad')\n",
    "adata_P2 = sc.read('adata_P2.h5ad')\n",
    "adata_H1 = sc.read('adata_H1.h5ad')\n",
    "adata_H2 = sc.read('adata_H2.h5ad')"
   ]
  },
  {
   "cell_type": "code",
   "execution_count": null,
   "metadata": {},
   "outputs": [],
   "source": [
    "# adata_UT = sc.read('adata_UT.h5ad')"
   ]
  },
  {
   "cell_type": "code",
   "execution_count": null,
   "metadata": {},
   "outputs": [],
   "source": [
    "data_combat = [adata_p1, adata_p2, adata_h1, adata_h2]"
   ]
  },
  {
   "cell_type": "code",
   "execution_count": null,
   "metadata": {},
   "outputs": [],
   "source": [
    "data_scvi = [adata_P1, adata_P2, adata_H1, adata_H2]"
   ]
  },
  {
   "cell_type": "code",
   "execution_count": null,
   "metadata": {},
   "outputs": [],
   "source": [
    "adata_combat = adata_p1.concatenate(adata_p2, adata_h1, adata_h2)"
   ]
  },
  {
   "cell_type": "code",
   "execution_count": null,
   "metadata": {},
   "outputs": [],
   "source": [
    "adata_scvi = adata_P1.concatenate(adata_P2, adata_H1, adata_H2)"
   ]
  },
  {
   "cell_type": "code",
   "execution_count": null,
   "metadata": {},
   "outputs": [],
   "source": [
    "sc.pp.combat(adata_combat, key='Patient')"
   ]
  },
  {
   "cell_type": "code",
   "execution_count": null,
   "metadata": {},
   "outputs": [],
   "source": [
    "adata_combat.write('adata_combat.h5ad')"
   ]
  },
  {
   "cell_type": "code",
   "execution_count": null,
   "metadata": {},
   "outputs": [],
   "source": [
    "scvi.model.SCVI.setup_anndata(adata_scvi, batch_key=\"batch\")"
   ]
  },
  {
   "cell_type": "code",
   "execution_count": null,
   "metadata": {},
   "outputs": [],
   "source": [
    "adata_scvi.write('adata_scvi.h5ad')"
   ]
  }
 ],
 "metadata": {
  "kernelspec": {
   "display_name": "Python 3",
   "language": "python",
   "name": "python3"
  },
  "language_info": {
   "codemirror_mode": {
    "name": "ipython",
    "version": 3
   },
   "file_extension": ".py",
   "mimetype": "text/x-python",
   "name": "python",
   "nbconvert_exporter": "python",
   "pygments_lexer": "ipython3",
   "version": "3.10.9"
  },
  "orig_nbformat": 4,
  "vscode": {
   "interpreter": {
    "hash": "1acc24bd1901f9ae8c29efb6830fcc1ca9fe0219dd00f8f1dc1b91856def15a9"
   }
  }
 },
 "nbformat": 4,
 "nbformat_minor": 2
}
